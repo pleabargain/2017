{
  "nbformat": 4,
  "nbformat_minor": 0,
  "metadata": {
    "colab": {
      "name": "Copy of car_loans.ipynb",
      "version": "0.3.2",
      "provenance": [],
      "include_colab_link": true
    },
    "kernelspec": {
      "display_name": "Python [conda env:py37]",
      "language": "python",
      "name": "conda-env-py37-py"
    }
  },
  "cells": [
    {
      "cell_type": "markdown",
      "metadata": {
        "id": "view-in-github",
        "colab_type": "text"
      },
      "source": [
        "<a href=\"https://colab.research.google.com/github/pleabargain/2017/blob/master/Copy_of_car_loans.ipynb\" target=\"_parent\"><img src=\"https://colab.research.google.com/assets/colab-badge.svg\" alt=\"Open In Colab\"/></a>"
      ]
    },
    {
      "metadata": {
        "id": "G1RW5OtB3gRp",
        "colab_type": "code",
        "colab": {}
      },
      "cell_type": "code",
      "source": [
        "%matplotlib inline\n",
        "import matplotlib.pyplot as plt\n",
        "import numpy as np\n",
        "import pandas as pd"
      ],
      "execution_count": 0,
      "outputs": []
    },
    {
      "metadata": {
        "id": "Rl2b9fOb3gRv",
        "colab_type": "text"
      },
      "cell_type": "markdown",
      "source": [
        "## Car Loan"
      ]
    },
    {
      "metadata": {
        "id": "MuTERQCB3gRw",
        "colab_type": "text"
      },
      "cell_type": "markdown",
      "source": [
        "https://mozo.com.au/interest-rates/guides/calculate-interest-on-loan"
      ]
    },
    {
      "metadata": {
        "id": "xQcNPMn_3gRy",
        "colab_type": "text"
      },
      "cell_type": "markdown",
      "source": [
        "Beware prepayment fees: https://www.creditkarma.com/auto/i/refinance-your-auto-loan/"
      ]
    },
    {
      "metadata": {
        "id": "36fcRVYV3gRz",
        "colab_type": "text"
      },
      "cell_type": "markdown",
      "source": [
        "These loans are called amortizing loans - which means that the mathematical whizzes at your bank have worked them out so that you pay a set amount each month and at the end of your loan term, you’ll have paid off both interest and principal.\n",
        "\n",
        "You can use an interest calculator to work out how much interest you’re paying all up, or, if you’d rather do it by hand, here’s how:"
      ]
    },
    {
      "metadata": {
        "id": "QiB7E3y83gRz",
        "colab_type": "text"
      },
      "cell_type": "markdown",
      "source": [
        "<b>(interest rate / number of payments) x (loan principal) = interest</b>"
      ]
    },
    {
      "metadata": {
        "id": "fQv3XNUV3gR1",
        "colab_type": "text"
      },
      "cell_type": "markdown",
      "source": [
        "1-) Divide your interest rate by the number of payments you’ll make in the year (interest rates are expressed annually). So, for example, if you’re making monthly payments, divide by 12."
      ]
    },
    {
      "metadata": {
        "id": "R3GtBG5a3gR3",
        "colab_type": "text"
      },
      "cell_type": "markdown",
      "source": [
        "2-) Multiply it by the balance of your loan, which for the first payment, will be your whole principal amount.\n",
        "\n",
        "This gives you the amount of interest you pay the first month.\n",
        "\n",
        "So for example, on a personal loan of $30,000 over a period of 6 years at 8.40% p.a. and making monthly repayments:\n",
        "\n",
        "(0.084 / 12) * 30,000 = 210"
      ]
    },
    {
      "metadata": {
        "id": "PXNUdzAg3gR4",
        "colab_type": "text"
      },
      "cell_type": "markdown",
      "source": [
        "Because you’ve now begun to pay off your principal, to work out the interest you pay in the following months, you need to first calculate your new balance. So:"
      ]
    },
    {
      "metadata": {
        "id": "QqJ21Bq13gR5",
        "colab_type": "text"
      },
      "cell_type": "markdown",
      "source": [
        "<b>principal - (repayment - interest) = new balance</b>"
      ]
    },
    {
      "metadata": {
        "id": "zohW-cYy3gR6",
        "colab_type": "text"
      },
      "cell_type": "markdown",
      "source": [
        "1-) Minus the interest you just calculated from the amount you repaid. This gives you the amount that you have paid off the loan principal."
      ]
    },
    {
      "metadata": {
        "id": "bz8ljU4G3gR7",
        "colab_type": "text"
      },
      "cell_type": "markdown",
      "source": [
        "Take this amount away from the original principal to find the new balance of your loan"
      ]
    },
    {
      "metadata": {
        "id": "23urM44g3gR8",
        "colab_type": "text"
      },
      "cell_type": "markdown",
      "source": [
        "2-) Take this amount away from the original principal to find the new balance of your loan. "
      ]
    },
    {
      "metadata": {
        "id": "3PMpVAkE3gR9",
        "colab_type": "text"
      },
      "cell_type": "markdown",
      "source": [
        "To work out ongogin interest payments, the easiest way is to break it up into a table. So using the above calculation, your calculations might look like this.\n",
        "\n",
        "Keeping in mind that doing the calculations yourself means slight discrepancies due to rounding and human error, this should give you a pretty good idea of what you’re paying in interest each month."
      ]
    },
    {
      "metadata": {
        "id": "uN7td-6M3gR-",
        "colab_type": "text"
      },
      "cell_type": "markdown",
      "source": [
        "# Calculating Refiancing Payments and Such"
      ]
    },
    {
      "metadata": {
        "id": "RIDb27yj3gR_",
        "colab_type": "text"
      },
      "cell_type": "markdown",
      "source": [
        "27k. \n",
        "\n",
        "3.59% \n",
        "\n",
        "72 months. \n",
        "\n",
        "Was 6.99%"
      ]
    },
    {
      "metadata": {
        "id": "FMVtC4u33gSA",
        "colab_type": "text"
      },
      "cell_type": "markdown",
      "source": [
        "https://superuser.com/questions/871404/what-would-be-the-the-mathematical-equivalent-of-this-excel-formula-pmt"
      ]
    },
    {
      "metadata": {
        "id": "qL-WPxs03gSC",
        "colab_type": "text"
      },
      "cell_type": "markdown",
      "source": [
        "California taxes vehicle purchases before rebates or incentives are applied to the price, which means that the buyer in this scenario will pay taxes on the vehicle as if it cost the full $10,000."
      ]
    },
    {
      "metadata": {
        "id": "cW8IBoqS3gSD",
        "colab_type": "text"
      },
      "cell_type": "markdown",
      "source": [
        "# Question \n",
        "\n",
        "I am interested in buying a 2019 Toyota Sienna for $31,115. I am curious how much it will cost me each month if I decide on financing my vehicle (take out a loan). This exercise is really about understanding how much of your equated monthly installment (EMI) is going toward paying off the loan and how much is about paying off the principal of the loan.  \n",
        "\n",
        "Assume a dealership comes back with the following loan terms. APR of 4.37 (annual percentage rate) for 72 months\n",
        "\n",
        "This blog will show you how much it costs and how much the loan payments are. "
      ]
    },
    {
      "metadata": {
        "id": "bEkTrKh73gSE",
        "colab_type": "text"
      },
      "cell_type": "markdown",
      "source": [
        "https://economictimes.indiatimes.com/definition/emi"
      ]
    },
    {
      "metadata": {
        "id": "gLTQbAwl3gSF",
        "colab_type": "text"
      },
      "cell_type": "markdown",
      "source": [
        "## Calculate EMI (monthly payment)"
      ]
    },
    {
      "metadata": {
        "id": "Nii-9X-33gSH",
        "colab_type": "text"
      },
      "cell_type": "markdown",
      "source": [
        "This is roughly how much your monthly payments will be on your loan. "
      ]
    },
    {
      "metadata": {
        "id": "_jc1e1vt3gSL",
        "colab_type": "code",
        "colab": {}
      },
      "cell_type": "code",
      "source": [
        "# Pv = Present Value (starting value of the loan) this is multiplied by tax\n",
        "Pv = 31115 * 1.075\n",
        "\n",
        "# California sales tax law \n",
        "# 7.5% state sales tax rate on the purchase of all vehicles\n",
        "\n",
        "# Annual percentage rate\n",
        "APR = .0359\n",
        "\n",
        "# periodic interest rate = APR/number of periods per year\n",
        "R = APR / 12\n",
        "\n",
        "# Total number of interest periods (number of months)\n",
        "n = 72"
      ],
      "execution_count": 0,
      "outputs": []
    },
    {
      "metadata": {
        "id": "fhpupcYp3gST",
        "colab_type": "code",
        "colab": {}
      },
      "cell_type": "code",
      "source": [
        "# I round up for this since if you round down you wont completely pay off the loan\n",
        "emi = np.round(( (Pv * R) / (1 - (1 + R)**(-n)) ), 2)"
      ],
      "execution_count": 0,
      "outputs": []
    },
    {
      "metadata": {
        "id": "3xEbwNr_3gSZ",
        "colab_type": "code",
        "outputId": "422731b7-e088-4040-81f7-309a9f17d562",
        "colab": {
          "base_uri": "https://localhost:8080/",
          "height": 35
        }
      },
      "cell_type": "code",
      "source": [
        "print('Monthly payment is: ' + str(emi) )"
      ],
      "execution_count": 4,
      "outputs": [
        {
          "output_type": "stream",
          "text": [
            "Monthly payment is: 517.08\n"
          ],
          "name": "stdout"
        }
      ]
    },
    {
      "metadata": {
        "id": "2Dlv78vh3gSf",
        "colab_type": "code",
        "colab": {}
      },
      "cell_type": "code",
      "source": [
        "## This was how I found \n",
        "\n",
        "# this is EMI formula moved to find out the principal. \n",
        "#principal = ( (528.97) * (1 - (1 + (R))**-72) ) / (R)\n",
        "#print(principal)"
      ],
      "execution_count": 0,
      "outputs": []
    },
    {
      "metadata": {
        "id": "_xDr0QrI3gSj",
        "colab_type": "text"
      },
      "cell_type": "markdown",
      "source": [
        "# Calculating for Payments as you have them. "
      ]
    },
    {
      "metadata": {
        "id": "__itOObN3gSk",
        "colab_type": "code",
        "colab": {}
      },
      "cell_type": "code",
      "source": [
        "repayment = emi\n",
        "principal = Pv\n",
        "term = 72\n",
        "\n",
        "def calc_interest(principal, repayment, interest_rate = 0.0359):\n",
        "    \n",
        "    \n",
        "    # You cant pay fractional interst on a loan \n",
        "    interest_paid = np.floor( ((interest_rate / 12) * principal ) * 100) / 100\n",
        "    \n",
        "    principal_paid = np.round(repayment - interest_paid, 2)\n",
        "    \n",
        "    new_balance = np.round(principal - principal_paid,2)\n",
        "    \n",
        "    return(repayment, interest_paid, principal_paid, new_balance)\n",
        "\n",
        "payment_lists = []\n",
        "\n",
        "\n",
        "\n",
        "for month in range(1, term + 1):\n",
        "\n",
        "        repayment, interest_paid, principal_paid, new_balance = calc_interest(principal, repayment)\n",
        "        \n",
        "        payment_lists.append([month, principal, repayment, interest_paid, principal_paid, new_balance])\n",
        "        \n",
        "        principal = np.round(new_balance,2)\n",
        "        \n",
        "        \n"
      ],
      "execution_count": 0,
      "outputs": []
    },
    {
      "metadata": {
        "id": "V6E4otc03gSo",
        "colab_type": "code",
        "colab": {}
      },
      "cell_type": "code",
      "source": [
        "payment_table = pd.DataFrame(payment_lists, columns = ['Month', 'Starting Balance','Repayment','Interest Paid','Principal Paid','New Balance'])"
      ],
      "execution_count": 0,
      "outputs": []
    },
    {
      "metadata": {
        "id": "jjwEqh1q3gSq",
        "colab_type": "code",
        "outputId": "baadc7dd-9bd1-4db1-fd1f-542d6bad6f29",
        "colab": {
          "base_uri": "https://localhost:8080/",
          "height": 202
        }
      },
      "cell_type": "code",
      "source": [
        "payment_table.tail()"
      ],
      "execution_count": 8,
      "outputs": [
        {
          "output_type": "execute_result",
          "data": {
            "text/html": [
              "<div>\n",
              "<style scoped>\n",
              "    .dataframe tbody tr th:only-of-type {\n",
              "        vertical-align: middle;\n",
              "    }\n",
              "\n",
              "    .dataframe tbody tr th {\n",
              "        vertical-align: top;\n",
              "    }\n",
              "\n",
              "    .dataframe thead th {\n",
              "        text-align: right;\n",
              "    }\n",
              "</style>\n",
              "<table border=\"1\" class=\"dataframe\">\n",
              "  <thead>\n",
              "    <tr style=\"text-align: right;\">\n",
              "      <th></th>\n",
              "      <th>Month</th>\n",
              "      <th>Starting Balance</th>\n",
              "      <th>Repayment</th>\n",
              "      <th>Interest Paid</th>\n",
              "      <th>Principal Paid</th>\n",
              "      <th>New Balance</th>\n",
              "    </tr>\n",
              "  </thead>\n",
              "  <tbody>\n",
              "    <tr>\n",
              "      <th>67</th>\n",
              "      <td>68</td>\n",
              "      <td>2562.35</td>\n",
              "      <td>517.08</td>\n",
              "      <td>7.66</td>\n",
              "      <td>509.42</td>\n",
              "      <td>2052.93</td>\n",
              "    </tr>\n",
              "    <tr>\n",
              "      <th>68</th>\n",
              "      <td>69</td>\n",
              "      <td>2052.93</td>\n",
              "      <td>517.08</td>\n",
              "      <td>6.14</td>\n",
              "      <td>510.94</td>\n",
              "      <td>1541.99</td>\n",
              "    </tr>\n",
              "    <tr>\n",
              "      <th>69</th>\n",
              "      <td>70</td>\n",
              "      <td>1541.99</td>\n",
              "      <td>517.08</td>\n",
              "      <td>4.61</td>\n",
              "      <td>512.47</td>\n",
              "      <td>1029.52</td>\n",
              "    </tr>\n",
              "    <tr>\n",
              "      <th>70</th>\n",
              "      <td>71</td>\n",
              "      <td>1029.52</td>\n",
              "      <td>517.08</td>\n",
              "      <td>3.07</td>\n",
              "      <td>514.01</td>\n",
              "      <td>515.51</td>\n",
              "    </tr>\n",
              "    <tr>\n",
              "      <th>71</th>\n",
              "      <td>72</td>\n",
              "      <td>515.51</td>\n",
              "      <td>517.08</td>\n",
              "      <td>1.54</td>\n",
              "      <td>515.54</td>\n",
              "      <td>-0.03</td>\n",
              "    </tr>\n",
              "  </tbody>\n",
              "</table>\n",
              "</div>"
            ],
            "text/plain": [
              "    Month  Starting Balance  Repayment  Interest Paid  Principal Paid  \\\n",
              "67     68           2562.35     517.08           7.66          509.42   \n",
              "68     69           2052.93     517.08           6.14          510.94   \n",
              "69     70           1541.99     517.08           4.61          512.47   \n",
              "70     71           1029.52     517.08           3.07          514.01   \n",
              "71     72            515.51     517.08           1.54          515.54   \n",
              "\n",
              "    New Balance  \n",
              "67      2052.93  \n",
              "68      1541.99  \n",
              "69      1029.52  \n",
              "70       515.51  \n",
              "71        -0.03  "
            ]
          },
          "metadata": {
            "tags": []
          },
          "execution_count": 8
        }
      ]
    },
    {
      "metadata": {
        "id": "yUbXjaUE3gSv",
        "colab_type": "text"
      },
      "cell_type": "markdown",
      "source": [
        "## Total Interest Paid on Loan"
      ]
    },
    {
      "metadata": {
        "id": "DI329LUs3gSw",
        "colab_type": "code",
        "outputId": "d5468b6b-7756-4201-bca1-e9e5c6e56ac1",
        "colab": {
          "base_uri": "https://localhost:8080/",
          "height": 35
        }
      },
      "cell_type": "code",
      "source": [
        "# Look into that last week. \n",
        "payment_table['Interest Paid'].sum(), payment_table['Principal Paid'].sum()"
      ],
      "execution_count": 9,
      "outputs": [
        {
          "output_type": "execute_result",
          "data": {
            "text/plain": [
              "(3781.1, 33448.66)"
            ]
          },
          "metadata": {
            "tags": []
          },
          "execution_count": 9
        }
      ]
    },
    {
      "metadata": {
        "id": "oOyFl-IC3gS0",
        "colab_type": "code",
        "outputId": "a3ea8b16-1d09-453a-87a4-33fa57a420db",
        "colab": {
          "base_uri": "https://localhost:8080/",
          "height": 338
        }
      },
      "cell_type": "code",
      "source": [
        "fig, axes = plt.subplots(nrows = 1, ncols = 1, figsize=(10, 5) )\n",
        "axes.axhline(y = 528.97)\n",
        "axes.plot(payment_table['Month'], payment_table['Interest Paid'], c = 'k');\n",
        "axes.plot(payment_table['Month'], payment_table['Principal Paid'], c = 'b');\n",
        "\n",
        "axes.set_xlim((1, 72))"
      ],
      "execution_count": 10,
      "outputs": [
        {
          "output_type": "execute_result",
          "data": {
            "text/plain": [
              "(1, 72)"
            ]
          },
          "metadata": {
            "tags": []
          },
          "execution_count": 10
        },
        {
          "output_type": "display_data",
          "data": {
            "image/png": "[encoded data removed]",
            "text/plain": [
              "<matplotlib.figure.Figure at 0x7f425899ec50>"
            ]
          },
          "metadata": {
            "tags": []
          }
        }
      ]
    },
    {
      "metadata": {
        "collapsed": true,
        "id": "uJIkmIVO3gS7",
        "colab_type": "text"
      },
      "cell_type": "markdown",
      "source": [
        "## Refinancing Cost Comparison"
      ]
    },
    {
      "metadata": {
        "id": "KbcsAKZw3gS9",
        "colab_type": "text"
      },
      "cell_type": "markdown",
      "source": [
        "3.59% vs 6.99% (show the cost of refinancing a car, assuming no prepayment penalty)"
      ]
    },
    {
      "metadata": {
        "id": "gVZdvWGx3gTC",
        "colab_type": "code",
        "colab": {}
      },
      "cell_type": "code",
      "source": [
        ""
      ],
      "execution_count": 0,
      "outputs": []
    }
  ]
}